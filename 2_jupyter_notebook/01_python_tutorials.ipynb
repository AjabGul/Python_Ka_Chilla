{
 "cells": [
  {
   "cell_type": "markdown",
   "metadata": {},
   "source": [
    "# python Ka chilla"
   ]
  },
  {
   "cell_type": "markdown",
   "metadata": {},
   "source": [
    "## 01_first program with python"
   ]
  },
  {
   "cell_type": "code",
   "execution_count": 1,
   "metadata": {},
   "outputs": [
    {
     "name": "stdout",
     "output_type": "stream",
     "text": [
      "hello world\n",
      "this is our first program in python using VS code\n"
     ]
    }
   ],
   "source": [
    "print(\"hello world\")\n",
    "print(\"this is our first program in python using VS code\")"
   ]
  },
  {
   "cell_type": "markdown",
   "metadata": {},
   "source": [
    "## 02_Python Operators\n",
    "### Operators are used to perform operations on variables and values.\n",
    "\n",
    "### Python divides the operators in the following groups:\n",
    "\n",
    "1-Arithmetic operators\n",
    "2-Assignment operators\n",
    "3-Comparison operators\n",
    "4-Logical operators\n",
    "5-Identity operators\n",
    "6-Membership operators\n",
    "7-Bitwise operators\n",
    "\n",
    "#### 1- Arithmetic operators: (Note: Python follow the PEMDAS formula)\n"
   ]
  },
  {
   "cell_type": "code",
   "execution_count": 2,
   "metadata": {},
   "outputs": [
    {
     "name": "stdout",
     "output_type": "stream",
     "text": [
      "11\n",
      "5\n",
      "30\n",
      "2.4\n",
      "2\n",
      "3\n",
      "25\n"
     ]
    }
   ],
   "source": [
    "\n",
    "# 1.1- addtion\n",
    "print(5+6)\n",
    "# 1.2- substruction\n",
    "print(10-5)\n",
    "# 1.3- multifilcation\n",
    "print(5*6)\n",
    "# 1.4- division (flot number give number in points)\n",
    "print(12/5)\n",
    "# 1.4- division ansewr in whol number not flot\n",
    "print(13//5)\n",
    "# 1.5- modulus\n",
    "print(13 % 5)\n",
    "# 1.6- exponentiation\n",
    "print(5**2)\n"
   ]
  },
  {
   "cell_type": "markdown",
   "metadata": {},
   "source": [
    "## 03_Comparison Operators\n",
    "##### Comparison operators are used to compare two value"
   ]
  },
  {
   "cell_type": "code",
   "execution_count": 3,
   "metadata": {},
   "outputs": [
    {
     "name": "stdout",
     "output_type": "stream",
     "text": [
      "False\n",
      "True\n",
      "True\n",
      "False\n",
      "True\n",
      "False\n",
      "what is your name? ajab\n",
      "Hello ajab\n",
      "what is your age? 28\n",
      "you can apply for CNIC\n"
     ]
    }
   ],
   "source": [
    "\n",
    "# 1-   ==\t   ---->  Equal\n",
    "x = 5\n",
    "y = 3\n",
    "print(x == y)\n",
    "\n",
    "# 2-   !=\t   ---->  Not equal\n",
    "\n",
    "x = 5\n",
    "y = 3\n",
    "\n",
    "print(x != y)\n",
    "\n",
    "# 3-   >\t   ---->  Greater than\n",
    "x = 5\n",
    "y = 3\n",
    "\n",
    "print(x > y)\n",
    "\n",
    "# 4-   <\t   ---->  Less than\n",
    "x = 5\n",
    "y = 3\n",
    "\n",
    "print(x < y)\n",
    "\n",
    "# 5-   >=\t   ---->  Greater than or equal to\n",
    "x = 5\n",
    "y = 3\n",
    "\n",
    "print(x >= y)\n",
    "\n",
    "# 6-   <=\t   ---->  Less than or equal to\n",
    "x = 5\n",
    "y = 3\n",
    "\n",
    "print(x <= y)\n",
    "\n",
    "# example\n",
    "name = input(\"what is your name? \")\n",
    "print(\"Hello\", name)\n",
    "age = int(input(\"what is your age? \"))\n",
    "if age >= 18:\n",
    "    print(\"you can apply for CNIC\")\n",
    "else:\n",
    "    print(\"you can't apply for CNIC\")\n"
   ]
  },
  {
   "cell_type": "markdown",
   "metadata": {},
   "source": [
    "## 04_Strings\n",
    "#### Strings in python are surrounded by either single quotation marks, double quotation marks and triple quotation marls.\n"
   ]
  },
  {
   "cell_type": "code",
   "execution_count": 4,
   "metadata": {},
   "outputs": [
    {
     "name": "stdout",
     "output_type": "stream",
     "text": [
      "String in single quotation mark\n",
      "String in double quotation mark\n",
      "String in triple quotation mark\n"
     ]
    }
   ],
   "source": [
    "print('String in single quotation mark')\n",
    "print(\"String in double quotation mark\")\n",
    "print('''String in triple quotation mark''')"
   ]
  },
  {
   "cell_type": "markdown",
   "metadata": {},
   "source": [
    "## 05_ Variables\n",
    "####  Variables are containers for storing data values.\n",
    "###  Variable Names Rules:\n",
    "#### A variable can have a short name (like x and y) or a more descriptive name (age, carname, total_volume). Rules for Python variables:\n",
    "#### A variable name must start with a letter or the underscore character\n",
    "#### A variable name cannot start with a number\n",
    "#### A variable name can only contain alpha-numeric characters and underscores (A-z, 0-9, and _ )\n",
    "#### Variable names are case-sensitive (age, Age and AGE are three different variables)\n"
   ]
  },
  {
   "cell_type": "code",
   "execution_count": 5,
   "metadata": {},
   "outputs": [
    {
     "name": "stdout",
     "output_type": "stream",
     "text": [
      "5\n",
      "John\n",
      "3\n",
      "<class 'str'>\n",
      "3\n",
      "<class 'int'>\n",
      "3.0\n",
      "<class 'float'>\n",
      "<class 'int'>\n",
      "<class 'str'>\n"
     ]
    }
   ],
   "source": [
    "\n",
    "x = 5\n",
    "y = \"John\"\n",
    "print(x)\n",
    "print(y)\n",
    "\n",
    "\n",
    "# Casting\n",
    "# If you want to specify the data type of a variable, this can be done with casting.\n",
    "\n",
    "a = str(3)    # x will be '3'\n",
    "b = int(3)    # y will be 3\n",
    "c = float(3)  # z will be 3.0\n",
    "\n",
    "print(a)\n",
    "print(type(a))\n",
    "print(b)\n",
    "print(type(b))\n",
    "print(c)\n",
    "print(type(c))\n",
    "\n",
    "# Get the Type\n",
    "# You can get the data type of a variable with the type() function.\n",
    "\n",
    "print(type(x))\n",
    "print(type(y))\n",
    "\n"
   ]
  },
  {
   "cell_type": "markdown",
   "metadata": {},
   "source": [
    "## 6_ Input Factions: allow user inputs\n",
    "\n",
    "#### This function variable = input (‘ask from user ’) is used to ask from user to input the data and print(‘reply to user ’ + variable).\n",
    "#### Note: the input must be asked from the user in string.m"
   ]
  },
  {
   "cell_type": "code",
   "execution_count": 6,
   "metadata": {},
   "outputs": [
    {
     "name": "stdout",
     "output_type": "stream",
     "text": [
      "What is your name? ajab\n",
      "Hello,  ajab\n",
      "what is your qualification? MS\n",
      "ajab, your's qulification MS is fit for our goals\n"
     ]
    }
   ],
   "source": [
    "\n",
    "name = input(\"What is your name? \")\n",
    "print(\"Hello, \", name)\n",
    "qualification = input(\"what is your qualification? \")\n",
    "print(name + \", your's qulification \" +\n",
    "      qualification + \" is fit for our goals\")\n"
   ]
  },
  {
   "cell_type": "markdown",
   "metadata": {},
   "source": [
    "## 07_Type Conversion\n",
    "#### There are two type of data type conversion\n",
    "#### 1: implicit type conversion and 2: expicit type conversion\n",
    "\n",
    "\n",
    "### 1- IMPLICITE TYPE CONVERSTION:\n",
    "#### Python automatically converts one data type to another data type. This process doesn't need any user involvement. Let's see an example where Python promotes the conversion of the lower data type (integer) to the higher data type (float) to avoid data loss."
   ]
  },
  {
   "cell_type": "code",
   "execution_count": 7,
   "metadata": {},
   "outputs": [
    {
     "name": "stdout",
     "output_type": "stream",
     "text": [
      "<class 'int'>\n",
      "<class 'float'>\n",
      "<class 'str'>\n",
      "18.0 x data type is  <class 'float'>\n"
     ]
    }
   ],
   "source": [
    "x = 4\n",
    "y = 4.5\n",
    "z = \"Hello\"\n",
    "\n",
    "print(type(x))  # int\n",
    "print(type(y))  # float\n",
    "print(type(z))  # string\n",
    "\n",
    "x = x * y  # converted to float\n",
    "print(x, \"x data type is \", type(x))"
   ]
  },
  {
   "cell_type": "markdown",
   "metadata": {},
   "source": [
    "### 2: EXPLICIT TYPE CONVERSTION\n",
    "#### Explicit Type Conversion, users convert the data type of an object to required data type. We use the predefined functions like int() , float() , str() , etc to perform explicit type conversion. This type of conversion is also called typecasting because the user casts (changes) the data type of the objects.\n",
    "##### example"
   ]
  },
  {
   "cell_type": "code",
   "execution_count": 8,
   "metadata": {},
   "outputs": [
    {
     "name": "stdout",
     "output_type": "stream",
     "text": [
      "what is your age? 28\n",
      "<class 'str'>\n",
      "<class 'int'>\n"
     ]
    }
   ],
   "source": [
    "age = input(\"what is your age? \")  # string\n",
    "print(type(age))\n",
    "age = int(age)\n",
    "print(type(age))  # converted to int"
   ]
  },
  {
   "cell_type": "markdown",
   "metadata": {},
   "source": [
    "## 08_If elif and else conditional statements"
   ]
  },
  {
   "cell_type": "code",
   "execution_count": 9,
   "metadata": {},
   "outputs": [
    {
     "name": "stdout",
     "output_type": "stream",
     "text": [
      "inter your marks? 86\n",
      "GPA = 4 and Grad = A\n"
     ]
    }
   ],
   "source": [
    "marks = int(input(\"inter your marks? \"))\n",
    "\n",
    "if marks > 100 or marks < 0:\n",
    "    print('Invalid marks enterd')\n",
    "elif marks >= 85:\n",
    "    print('GPA = 4 and Grad = A')\n",
    "elif 80 <= marks <= 84:\n",
    "    print('GPA = 3.66 and Grad = -A')\n",
    "elif 75 <= marks <= 79:\n",
    "    print('GPA = 3.33 and Grad = +B')\n",
    "elif 71 <= marks <= 74:\n",
    "    print('GPA = 3.00 and Grad = B')\n",
    "elif 68 <= marks <= 70:\n",
    "    print('GPA = 2.66 and Grad = -B')\n",
    "elif 64 <= marks <= 67:\n",
    "    print('GPA = 2.00 and Grad = +C')\n",
    "elif 61 <= marks <= 63:\n",
    "    print('GPA = 1.66 and Grad = C')\n",
    "elif 58 <= marks <= 60:\n",
    "    print('GPA = 1.30 and Grad = -C')\n",
    "elif 54 <= marks <= 57:\n",
    "    print('GPA = 1.00 and Grad = +D')\n",
    "elif 50 <= marks <= 53:\n",
    "    print('GPA = 3.66 and Grad = D')\n",
    "else:\n",
    "    print('Fail')\n"
   ]
  },
  {
   "cell_type": "markdown",
   "metadata": {},
   "source": [
    "## 09_ PYTHON FUNCTIONS:\n",
    "#### Python has many built-in functions like print(), input(), len(). Besides built-ins you can also create your own functions to do more specific jobs—these are called user-defined functions. Using the def statement is the most common way to define a function in python."
   ]
  },
  {
   "cell_type": "code",
   "execution_count": 10,
   "metadata": {},
   "outputs": [
    {
     "name": "stdout",
     "output_type": "stream",
     "text": [
      "write your first number: 45\n",
      "write your second number: 67\n",
      "write your third number: 78\n",
      "78\n"
     ]
    }
   ],
   "source": [
    "def greater_number(a, b, c):  # a, b, c are parameters\n",
    "    # set logics for detect greater number\n",
    "    if a > b and b > c:\n",
    "        return a\n",
    "    elif b > a and b > c:\n",
    "        return b\n",
    "    else:\n",
    "        return c\n",
    "\n",
    "\n",
    "# ask number from user\n",
    "a = int(input(\"write your first number: \"))\n",
    "b = int(input(\"write your second number: \"))\n",
    "c = int(input(\"write your third number: \"))\n",
    "\n",
    "# pass the fucntion and call the parameters\n",
    "result = greater_number(a, b, c)\n",
    "# print the greater number\n",
    "print(result)\n"
   ]
  },
  {
   "cell_type": "markdown",
   "metadata": {},
   "source": [
    "## 10_LOOP:\n",
    "\n",
    "### 1_while loop\n",
    "#### in the while loop we can execute a set of statements as long as a condition is true."
   ]
  },
  {
   "cell_type": "code",
   "execution_count": 11,
   "metadata": {},
   "outputs": [
    {
     "name": "stdout",
     "output_type": "stream",
     "text": [
      "1 Ajab Gul \n",
      "2 Ajab Gul \n",
      "3 Ajab Gul \n",
      "4 Ajab Gul \n",
      "5 Ajab Gul \n",
      "6 Ajab Gul \n",
      "7 Ajab Gul \n",
      "8 Ajab Gul \n",
      "9 Ajab Gul \n",
      "10 Ajab Gul \n"
     ]
    }
   ],
   "source": [
    "i = 1\n",
    "while i <= 10:\n",
    "    print(f\"{i} Ajab Gul \")\n",
    "    i = i+1\n"
   ]
  },
  {
   "cell_type": "code",
   "execution_count": 12,
   "metadata": {},
   "outputs": [
    {
     "name": "stdout",
     "output_type": "stream",
     "text": [
      "0 raddy gul \n",
      "1 raddy gul \n",
      "2 raddy gul \n",
      "3 raddy gul \n",
      "4 raddy gul \n",
      "5 raddy gul \n"
     ]
    }
   ],
   "source": [
    "# # while loop break\n",
    "x = 0\n",
    "while x <= 10:\n",
    "    print(f\"{x} raddy gul \")\n",
    "    if x == 5:\n",
    "        break\n",
    "    x = x+1"
   ]
  },
  {
   "cell_type": "code",
   "execution_count": null,
   "metadata": {},
   "outputs": [
    {
     "name": "stdout",
     "output_type": "stream",
     "text": [
      "0 kakar \n",
      "1 kakar \n",
      "2 kakar \n",
      "3 kakar \n",
      "4 kakar \n"
     ]
    }
   ],
   "source": [
    "# while loop continue\n",
    "z = 0\n",
    "while z <= 10:\n",
    "    if z == 5:\n",
    "        continue\n",
    "    print(f\"{z} kakar \")\n",
    "    z = z+1\n",
    "\n",
    "\n"
   ]
  },
  {
   "cell_type": "markdown",
   "metadata": {},
   "source": [
    "### 2- FOR LOOP:\n",
    "#### A for loop is used for iterating over a sequence (that is either a list, a tuple, a dictionary, a set, or a string)."
   ]
  },
  {
   "cell_type": "code",
   "execution_count": null,
   "metadata": {},
   "outputs": [],
   "source": [
    "for b in range(5, 10):\n",
    "    print(b)"
   ]
  },
  {
   "cell_type": "code",
   "execution_count": null,
   "metadata": {},
   "outputs": [],
   "source": [
    "day = [\"mon\", \"thu\", \"wed\", \"thr\", \"fri\", \"sut\", \"sun\"]\n",
    "\n",
    "for i in day:\n",
    "    # if (i == \"fri\"): # break loop\n",
    "    if (i == \"thu\"):  # skip the day\n",
    "        continue\n",
    "    print(i)\n"
   ]
  },
  {
   "cell_type": "markdown",
   "metadata": {},
   "source": [
    "## 11_ Import Libraries\n",
    "#### math and statistics libraries"
   ]
  },
  {
   "cell_type": "code",
   "execution_count": null,
   "metadata": {},
   "outputs": [],
   "source": [
    "\n",
    "\n",
    "# what is the value of pi\n",
    "import statistics\n",
    "import math\n",
    "print(f\"The value of pi is {math.pi}\")\n",
    "\n",
    "# mean, mod, median\n",
    "\n",
    "x = [250, 350, 450, 550]\n",
    "print(f\"The mean of x is: {statistics.mean(x)}\")\n",
    "print(f\"The mode of x is: {statistics.mode(x)}\")\n",
    "print(f\"The median of x is: {statistics.median(x)}\")\n"
   ]
  },
  {
   "cell_type": "markdown",
   "metadata": {},
   "source": [
    "## 12_trouble shooting\n",
    "#### syntax error\n",
    "#### runtime error\n",
    "#### semintic error\n"
   ]
  }
 ],
 "metadata": {
  "kernelspec": {
   "display_name": "Python 3",
   "language": "python",
   "name": "python3"
  },
  "language_info": {
   "codemirror_mode": {
    "name": "ipython",
    "version": 3
   },
   "file_extension": ".py",
   "mimetype": "text/x-python",
   "name": "python",
   "nbconvert_exporter": "python",
   "pygments_lexer": "ipython3",
   "version": "3.8.5"
  }
 },
 "nbformat": 4,
 "nbformat_minor": 4
}
